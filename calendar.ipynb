{
  "nbformat": 4,
  "nbformat_minor": 0,
  "metadata": {
    "colab": {
      "provenance": [],
      "authorship_tag": "ABX9TyNUnJJ3EpC2ATs3cSIRa6bh",
      "include_colab_link": true
    },
    "kernelspec": {
      "name": "python3",
      "display_name": "Python 3"
    },
    "language_info": {
      "name": "python"
    }
  },
  "cells": [
    {
      "cell_type": "markdown",
      "metadata": {
        "id": "view-in-github",
        "colab_type": "text"
      },
      "source": [
        "<a href=\"https://colab.research.google.com/github/luvsoy/23python3rd/blob/main/calendar.ipynb\" target=\"_parent\"><img src=\"https://colab.research.google.com/assets/colab-badge.svg\" alt=\"Open In Colab\"/></a>"
      ]
    },
    {
      "cell_type": "code",
      "execution_count": 4,
      "metadata": {
        "colab": {
          "base_uri": "https://localhost:8080/"
        },
        "id": "7enO5NhZZDpz",
        "outputId": "30a9ccbc-573b-406d-89f1-b56801ee0768"
      },
      "outputs": [
        {
          "output_type": "stream",
          "name": "stdout",
          "text": [
            "    October 2023\n",
            "Mo Tu We Th Fr Sa Su\n",
            "                   1\n",
            " 2  3  4  5  6  7  8\n",
            " 9 10 11 12 13 14 15\n",
            "16 17 18 19 20 21 22\n",
            "23 24 25 26 27 28 29\n",
            "30 31\n",
            "\n"
          ]
        }
      ],
      "source": [
        "import calendar\n",
        "yy = 2023\n",
        "mm = 10\n",
        "print(calendar.month(yy,mm))"
      ]
    },
    {
      "cell_type": "markdown",
      "source": [
        "- 2023년 10월 19일\n",
        "- 00:10~11:00 컴퓨팅적 사고와 기초 코딩\n",
        "- 11:00~12:00 점심 식사\n",
        "- 18:00 저녁 식사\n",
        "\n"
      ],
      "metadata": {
        "id": "pYB4vvFoatKd"
      }
    },
    {
      "cell_type": "code",
      "source": [
        "print(\"hello world\")\n",
        "print(\"2023년 10월 19일\")\n",
        "print(\"00:10~11:00 컴퓨팅적 사고와 기초 코딩\")\n",
        "print(\"11:00~12:00 점심 식사\")\n",
        "print(\"18:00 저녁 식사\")\n"
      ],
      "metadata": {
        "colab": {
          "base_uri": "https://localhost:8080/"
        },
        "id": "gkoUwsqXcMtW",
        "outputId": "109dba0f-e969-43af-a17d-65a9bfcf7318"
      },
      "execution_count": 8,
      "outputs": [
        {
          "output_type": "stream",
          "name": "stdout",
          "text": [
            "hello world\n",
            "2023년 10월 19일\n",
            "00:10~11:00 컴퓨팅적 사고와 기초 코딩\n",
            "11:00~12:00 점심 식사\n",
            "18:00 저녁 식사\n"
          ]
        }
      ]
    }
  ]
}