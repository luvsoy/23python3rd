{
  "nbformat": 4,
  "nbformat_minor": 0,
  "metadata": {
    "colab": {
      "provenance": [],
      "authorship_tag": "ABX9TyM3qi830A8iIKqwfbv/77HE",
      "include_colab_link": true
    },
    "kernelspec": {
      "name": "python3",
      "display_name": "Python 3"
    },
    "language_info": {
      "name": "python"
    }
  },
  "cells": [
    {
      "cell_type": "markdown",
      "metadata": {
        "id": "view-in-github",
        "colab_type": "text"
      },
      "source": [
        "<a href=\"https://colab.research.google.com/github/luvsoy/23python3rd/blob/main/CTBC_9.ipynb\" target=\"_parent\"><img src=\"https://colab.research.google.com/assets/colab-badge.svg\" alt=\"Open In Colab\"/></a>"
      ]
    },
    {
      "cell_type": "markdown",
      "source": [
        "1. 두 가지 이상의 선택, 다방향 선택 구조 코딩\n",
        "- 배송료 처리 3가지로 코딩\n",
        "- 변수: price\n",
        "- 조건: 10만원 이상은 배송비 0, 2만원 이상은 3천원, 2만원 이하는 5천원"
      ],
      "metadata": {
        "id": "aSkJzHmQrRkV"
      }
    },
    {
      "cell_type": "code",
      "source": [
        "price = int(input(\"구입금액 입력:\"))            # 변수 price 사용자가 정수형 금액 입력\n",
        "if price >= 100000:                             # prise의 값이 10만원보다 크거나 같으면\n",
        "  shipping_cost = 0                             # 선택1. 배송료(shipping_cost)는 0원\n",
        "else:                                           # 그게 아니면\n",
        "  if price >= 20000:                            # 선택2. price값이 2만원보다 크거나 같으면\n",
        "    shipping_cost = 3000                        # 배송료 (shipping_cost)는 3000원\n",
        "  else:                                         # 그것도 아니면\n",
        "    shipping_cost = 5000                        # 선택3. 배송료(shipping_cost)는 5000원\n",
        "print(f'배송료는 {shipping_cost}원 입니다.')    # F-String문자 Format으로 최종 배송료 출력"
      ],
      "metadata": {
        "colab": {
          "base_uri": "https://localhost:8080/"
        },
        "id": "OFSiKnVS0646",
        "outputId": "c9d88856-7355-41d5-baa0-a3644bfc20a7"
      },
      "execution_count": 10,
      "outputs": [
        {
          "output_type": "stream",
          "name": "stdout",
          "text": [
            "구입금액 입력:20000\n",
            "배송료는 3000원 입니다.\n"
          ]
        }
      ]
    },
    {
      "cell_type": "markdown",
      "source": [
        "2. 반복구조를 이용한 \"환영합니다.\"를 5번 출력하는 코드 작성\n",
        "- 변수 : Welcome\n",
        "- 출력 내용 : 환영합니다.를 세로로 5번, 10번, 30번"
      ],
      "metadata": {
        "id": "wzUoLuhsy2st"
      }
    },
    {
      "cell_type": "code",
      "source": [
        "print(\"환영합니다.\")\n",
        "print(\"환영합니다.\")\n",
        "print(\"환영합니다.\")\n",
        "print(\"환영합니다.\")\n",
        "print(\"환영합니다.\")"
      ],
      "metadata": {
        "colab": {
          "base_uri": "https://localhost:8080/"
        },
        "id": "AdC5s6ZVze8d",
        "outputId": "cc080507-bde2-44ab-c461-00eb41376c13"
      },
      "execution_count": 4,
      "outputs": [
        {
          "output_type": "stream",
          "name": "stdout",
          "text": [
            "환영합니다.\n",
            "환영합니다.\n",
            "환영합니다.\n",
            "환영합니다.\n",
            "환영합니다.\n"
          ]
        }
      ]
    },
    {
      "cell_type": "code",
      "source": [
        "print(\"환영합니다.Wn\" * 5)"
      ],
      "metadata": {
        "colab": {
          "base_uri": "https://localhost:8080/"
        },
        "id": "bHwM9SFez1Sa",
        "outputId": "4ee88ef5-b829-4669-886e-9dc1609d8720"
      },
      "execution_count": 5,
      "outputs": [
        {
          "output_type": "stream",
          "name": "stdout",
          "text": [
            "환영합니다.Wn환영합니다.Wn환영합니다.Wn환영합니다.Wn환영합니다.Wn\n"
          ]
        }
      ]
    },
    {
      "cell_type": "code",
      "source": [
        "count = 1\n",
        "while count <= 5:\n",
        "  print(\"(\", count, \")\", \"환영합니다.\")\n",
        "  count = count + 1"
      ],
      "metadata": {
        "colab": {
          "base_uri": "https://localhost:8080/"
        },
        "id": "Pj5AORPI0B4c",
        "outputId": "f478389c-1bf3-442f-ae5a-3d46b1c1eb5f"
      },
      "execution_count": 6,
      "outputs": [
        {
          "output_type": "stream",
          "name": "stdout",
          "text": [
            "( 1 ) 환영합니다.\n",
            "( 2 ) 환영합니다.\n",
            "( 3 ) 환영합니다.\n",
            "( 4 ) 환영합니다.\n",
            "( 5 ) 환영합니다.\n"
          ]
        }
      ]
    },
    {
      "cell_type": "markdown",
      "source": [
        "3. 0부터 9까지 출력하는 코드 작성\n",
        "- 변수 : x"
      ],
      "metadata": {
        "id": "pzYtG8Ra2Ocr"
      }
    },
    {
      "cell_type": "code",
      "source": [
        "x = 0\n",
        "while x < 10:\n",
        "  #print(x)\n",
        "  print(x, end=' ')\n",
        "  x = x + 1"
      ],
      "metadata": {
        "colab": {
          "base_uri": "https://localhost:8080/"
        },
        "id": "2DjVk_ft2X-1",
        "outputId": "3f4b8a86-4b72-4940-9b71-9b26c976fec8"
      },
      "execution_count": 11,
      "outputs": [
        {
          "output_type": "stream",
          "name": "stdout",
          "text": [
            "0 1 2 3 4 5 6 7 8 9 "
          ]
        }
      ]
    },
    {
      "cell_type": "markdown",
      "source": [
        "4. 1부터 10까지 합산하는 코드 작성"
      ],
      "metadata": {
        "id": "r0P1VhRC3Fy6"
      }
    },
    {
      "cell_type": "code",
      "source": [
        "x = 1\n",
        "total = 0\n",
        "while x <= 10:\n",
        "  total += x\n",
        "  #total = total + 1\n",
        "  #x = x + 1\n",
        "  x += 1\n",
        "  print(total)"
      ],
      "metadata": {
        "colab": {
          "base_uri": "https://localhost:8080/"
        },
        "id": "XzGHonbJ3OjJ",
        "outputId": "67e9f393-dc05-449f-fb60-4b2828aca616"
      },
      "execution_count": 12,
      "outputs": [
        {
          "output_type": "stream",
          "name": "stdout",
          "text": [
            "1\n",
            "3\n",
            "6\n",
            "10\n",
            "15\n",
            "21\n",
            "28\n",
            "36\n",
            "45\n",
            "55\n"
          ]
        }
      ]
    },
    {
      "cell_type": "markdown",
      "source": [
        "5. 3-6-9 게임(3의 배수 판단): 3의 배수를\n",
        "3으로 나누면 나머지가 0이 되므로(i mod 3)의\n",
        "값이 0이면 박수를 출력, 아니면 숫자 출력하는\n",
        "코드"
      ],
      "metadata": {
        "id": "NwumTCff4Mhb"
      }
    },
    {
      "cell_type": "code",
      "source": [
        "for num in range(1, 21):\n",
        "  if num % 3 == 0:\n",
        "    print(\"박수\", end=' ')\n",
        "  else:\n",
        "    print(num, end=' ')"
      ],
      "metadata": {
        "colab": {
          "base_uri": "https://localhost:8080/"
        },
        "id": "3m8KT14B47uG",
        "outputId": "0a83b598-d4ca-4466-d054-311a63b088ad"
      },
      "execution_count": 15,
      "outputs": [
        {
          "output_type": "stream",
          "name": "stdout",
          "text": [
            "1 2 박수 4 5 박수 7 8 박수 10 11 박수 13 14 박수 16 17 박수 19 20 "
          ]
        }
      ]
    },
    {
      "cell_type": "code",
      "source": [
        "num = 1\n",
        "while num <= 20:\n",
        "  if num % 3 == 0:\n",
        "    print(\"박수\", end=' ')\n",
        "  else:\n",
        "    print(num, end=' ')\n",
        "  num += 1"
      ],
      "metadata": {
        "colab": {
          "base_uri": "https://localhost:8080/"
        },
        "id": "h_5vJ6ik5yFQ",
        "outputId": "91fc720a-e4b0-4e0d-af08-7bca2bc96d49"
      },
      "execution_count": 16,
      "outputs": [
        {
          "output_type": "stream",
          "name": "stdout",
          "text": [
            "1 2 박수 4 5 박수 7 8 박수 10 11 박수 13 14 박수 16 17 박수 19 20 "
          ]
        }
      ]
    }
  ]
}