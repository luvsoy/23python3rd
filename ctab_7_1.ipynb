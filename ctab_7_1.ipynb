{
  "nbformat": 4,
  "nbformat_minor": 0,
  "metadata": {
    "colab": {
      "provenance": [],
      "authorship_tag": "ABX9TyNI8d/wj310u+DlbsppuHhJ",
      "include_colab_link": true
    },
    "kernelspec": {
      "name": "python3",
      "display_name": "Python 3"
    },
    "language_info": {
      "name": "python"
    }
  },
  "cells": [
    {
      "cell_type": "markdown",
      "metadata": {
        "id": "view-in-github",
        "colab_type": "text"
      },
      "source": [
        "<a href=\"https://colab.research.google.com/github/luvsoy/23python3rd/blob/main/ctab_7_1.ipynb\" target=\"_parent\"><img src=\"https://colab.research.google.com/assets/colab-badge.svg\" alt=\"Open In Colab\"/></a>"
      ]
    },
    {
      "cell_type": "markdown",
      "source": [
        "1. 일한 시간과 시급을 계산하여 출력하는 코드\n",
        "- 일한 시간(hour_worked)\n",
        "- 일한 날짜(day_worked)\n",
        "- 시급(pay_rate)\n",
        "- 월급(monthly_pay)\n",
        "\n"
      ],
      "metadata": {
        "id": "sNlkFU57oNWP"
      }
    },
    {
      "cell_type": "code",
      "source": [
        "hour_worked = int(input(\"일한 시간을 입력하시오.:\"))\n",
        "day_worked = int(input(\"일한 날짜를 입력하시오.:\"))\n",
        "day_month = hour_worked * day_worked\n",
        "pay_rate = int(input(\"시급을 입력하시오.(23년 시급 9620):\"))\n",
        "monthly_pay = hour_worked * pay_rate * day_worked\n",
        "print(f'일한 시간은 {hour_worked}시간이며, 시급은 {pay_rate}원이고, 월급여는 {monthly_pay}원입니다.')\n"
      ],
      "metadata": {
        "colab": {
          "base_uri": "https://localhost:8080/"
        },
        "id": "gjx8z6xPpFEt",
        "outputId": "45346189-5f87-4246-9cde-04a6b8485606"
      },
      "execution_count": 3,
      "outputs": [
        {
          "output_type": "stream",
          "name": "stdout",
          "text": [
            "일한 시간을 입력하시오.:10\n",
            "일한 날짜를 입력하시오.:25\n",
            "시급을 입력하시오.(23년 시급 9620):9620\n",
            "일한 시간은 10시간이며, 시급은 9620원이고, 월급여는 2405000원입니다.\n"
          ]
        }
      ]
    },
    {
      "cell_type": "markdown",
      "source": [
        "2. 환전하는 코드를 작성\n",
        "- 변수 won, usd, exchange\n",
        "- 계산 won * usd"
      ],
      "metadata": {
        "id": "FSnURJSgunsz"
      }
    },
    {
      "cell_type": "code",
      "source": [
        "usd = int(input(\"환전할 달러를 입력:\"))\n",
        "won = int(input(\"달러의 환율 금액 입력(231031: 1372원)\"))\n",
        "exchange = won * usd\n",
        "print(f'환전하고 싶은 달러 금액은 {usd}는 환율{won}으로 계산하면, {exchange}원입니다.')\n"
      ],
      "metadata": {
        "colab": {
          "base_uri": "https://localhost:8080/"
        },
        "id": "trLSohQevGQc",
        "outputId": "a096ec74-7542-4f92-9980-2960d45f3dc8"
      },
      "execution_count": 7,
      "outputs": [
        {
          "output_type": "stream",
          "name": "stdout",
          "text": [
            "환전할 달러를 입력:500\n",
            "달러의 환율 금액 입력(231031: 1372원)1372\n",
            "환전하고 싶은 달러 금액은 500는 환율1372으로 계산하면, 686000원입니다.\n"
          ]
        }
      ]
    },
    {
      "cell_type": "markdown",
      "source": [
        "3. 화씨를 섭씨로 섭씨를 화씨로 변경하는 코드\n",
        "- 화씨를 섭씨로 ℉ = ℃ * 1.8 + 32\n",
        "- 섭씨를 화씨로 ℃ = (℉ - 32) / 1.8\n",
        "- 변수 : 화씨 fahrenheit, 섭씨 celsius"
      ],
      "metadata": {
        "id": "BxmFSiFOyHCO"
      }
    },
    {
      "cell_type": "code",
      "source": [
        "fahrenheit = int(input(\"화씨를 입력하시오.:\"))\n",
        "celsius = (fahrenheit - 32) / 1.8\n",
        "print(celsius)\n"
      ],
      "metadata": {
        "colab": {
          "base_uri": "https://localhost:8080/"
        },
        "id": "P2HajDMXzbu3",
        "outputId": "9db30384-82e0-4ca4-db63-b6582d2aa35e"
      },
      "execution_count": 8,
      "outputs": [
        {
          "output_type": "stream",
          "name": "stdout",
          "text": [
            "화씨를 입력하시오.:100\n",
            "37.77777777777778\n"
          ]
        }
      ]
    },
    {
      "cell_type": "code",
      "source": [
        "celsius = float(input(\"섭씨를 입력하시오.:\"))\n",
        "fahrenheit = celsius * 1.8 + 32\n",
        "print(fahrenheit)\n"
      ],
      "metadata": {
        "colab": {
          "base_uri": "https://localhost:8080/"
        },
        "id": "rk_iTorK0Riz",
        "outputId": "b9bcb570-0e84-49a6-8ef5-6e09ace6f8bc"
      },
      "execution_count": 9,
      "outputs": [
        {
          "output_type": "stream",
          "name": "stdout",
          "text": [
            "섭씨를 입력하시오.:37.77777777777778\n",
            "100.0\n"
          ]
        }
      ]
    }
  ]
}